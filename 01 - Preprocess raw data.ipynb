{
 "cells": [
  {
   "cell_type": "code",
   "execution_count": 1,
   "metadata": {
    "collapsed": true
   },
   "outputs": [],
   "source": [
    "## Here we load raw datasets and leave them in a suitable shape for the analysis.\n",
    "\n",
    "# Datasets should be disaggregated at their maximum. They are:\n",
    "# Imports, exports and wages, from Brasil and Chile."
   ]
  },
  {
   "cell_type": "code",
   "execution_count": 30,
   "metadata": {
    "collapsed": true
   },
   "outputs": [],
   "source": [
    "import pandas as pd"
   ]
  },
  {
   "cell_type": "markdown",
   "metadata": {},
   "source": [
    "## Brazil. \n",
    "### Load classification info"
   ]
  },
  {
   "cell_type": "code",
   "execution_count": 31,
   "metadata": {
    "collapsed": true
   },
   "outputs": [],
   "source": [
    "# Load info\n",
    "hard_drive_path = './../../../../../media/miglesia/Elements/Matias_Iglesias_Backup/miglesia/Documents/compute-corr-structures/'\n",
    "path = hard_drive_path + 'data/disagg_struct_refs/formatted/'\n",
    "\n",
    "CIIU = pd.read_csv(path+'CIIU_full.csv')\n",
    "CBO = pd.read_csv(path+'CBO_full.csv').astype(str)\n",
    "CNAE = pd.read_csv(path+'CNAE_full.csv').astype(str)\n",
    "HS = pd.read_csv(path+'hs_full.csv').astype(str)\n",
    "\n",
    "#fix dtypes of IDs\n",
    "for col in CBO.columns:\n",
    "    if 'ID' in col:\n",
    "        CBO[col] = CBO[col].astype(int).astype(str)\n",
    "\n",
    "CNAE_agg_ref = CNAE[sorted([col for col in CNAE.columns if 'ID' in col])]\n",
    "CBO_agg_ref = CBO[sorted([col for col in CBO.columns if 'ID' in col])]\n",
    "HS_agg_ref = HS[sorted([col for col in HS.columns if 'ID' in col])]\n",
    "\n",
    "exhange_rate = {'2011': 1.673, '2012': 1.953, '2013': 2.156, '2014': 2.353}\n",
    "# world bank https://data.worldbank.org/indicator/PA.NUS.FCRF?end=2014&locations=BR&start=2011\n"
   ]
  },
  {
   "cell_type": "markdown",
   "metadata": {},
   "source": [
    "### Load data. "
   ]
  },
  {
   "cell_type": "code",
   "execution_count": 32,
   "metadata": {
    "collapsed": true
   },
   "outputs": [
    {
     "ename": "IOError",
     "evalue": "File ./../../../../../media/miglesia/Elements/Matias_Iglesias_Backup/miglesia/Documents/compute-corr-structures/data/disagg_struct_refs/formatted/secex-2011-microregions-position.csv does not exist",
     "output_type": "error",
     "traceback": [
      "\u001b[1;31m---------------------------------------------------------------------------\u001b[0m",
      "\u001b[1;31mIOError\u001b[0m                                   Traceback (most recent call last)",
      "\u001b[1;32m<ipython-input-32-5b5407b7a821>\u001b[0m in \u001b[0;36m<module>\u001b[1;34m()\u001b[0m\n\u001b[0;32m     20\u001b[0m \u001b[1;32mfor\u001b[0m \u001b[0my\u001b[0m \u001b[1;32min\u001b[0m \u001b[1;33m[\u001b[0m\u001b[1;34m'2011'\u001b[0m\u001b[1;33m,\u001b[0m \u001b[1;34m'2012'\u001b[0m\u001b[1;33m,\u001b[0m \u001b[1;34m'2013'\u001b[0m\u001b[1;33m,\u001b[0m \u001b[1;34m'2014'\u001b[0m\u001b[1;33m]\u001b[0m\u001b[1;33m:\u001b[0m\u001b[1;33m\u001b[0m\u001b[0m\n\u001b[0;32m     21\u001b[0m     \u001b[0mf\u001b[0m \u001b[1;33m=\u001b[0m \u001b[0mpath\u001b[0m\u001b[1;33m+\u001b[0m\u001b[1;34m'secex-'\u001b[0m\u001b[1;33m+\u001b[0m\u001b[0my\u001b[0m\u001b[1;33m+\u001b[0m\u001b[1;34m'-microregions-position.csv'\u001b[0m\u001b[1;33m\u001b[0m\u001b[0m\n\u001b[1;32m---> 22\u001b[1;33m     \u001b[0mtrade\u001b[0m \u001b[1;33m=\u001b[0m \u001b[0mpd\u001b[0m\u001b[1;33m.\u001b[0m\u001b[0mread_csv\u001b[0m\u001b[1;33m(\u001b[0m\u001b[0mf\u001b[0m\u001b[1;33m)\u001b[0m\u001b[1;33m[\u001b[0m\u001b[1;33m[\u001b[0m\u001b[1;34mu'Year'\u001b[0m\u001b[1;33m,\u001b[0m \u001b[1;34mu'BRA ID'\u001b[0m\u001b[1;33m,\u001b[0m \u001b[1;34mu'HS ID'\u001b[0m\u001b[1;33m,\u001b[0m \u001b[1;34mu'Exports'\u001b[0m\u001b[1;33m,\u001b[0m \u001b[1;34mu'Imports'\u001b[0m\u001b[1;33m]\u001b[0m\u001b[1;33m]\u001b[0m\u001b[1;33m.\u001b[0m\u001b[0mrename\u001b[0m\u001b[1;33m(\u001b[0m\u001b[1;33m{\u001b[0m\u001b[1;34m'BRA ID'\u001b[0m \u001b[1;33m:\u001b[0m \u001b[1;34m'BRA ID MIR'\u001b[0m\u001b[1;33m}\u001b[0m\u001b[1;33m,\u001b[0m \u001b[0maxis\u001b[0m \u001b[1;33m=\u001b[0m \u001b[1;36m1\u001b[0m\u001b[1;33m)\u001b[0m\u001b[1;33m\u001b[0m\u001b[0m\n\u001b[0m\u001b[0;32m     23\u001b[0m     \u001b[0mtrade\u001b[0m\u001b[1;33m[\u001b[0m\u001b[1;34m'HS ID'\u001b[0m\u001b[1;33m]\u001b[0m \u001b[1;33m=\u001b[0m \u001b[0mtrade\u001b[0m\u001b[1;33m[\u001b[0m\u001b[1;34m'HS ID'\u001b[0m\u001b[1;33m]\u001b[0m\u001b[1;33m.\u001b[0m\u001b[0mastype\u001b[0m\u001b[1;33m(\u001b[0m\u001b[0mstr\u001b[0m\u001b[1;33m)\u001b[0m\u001b[1;33m.\u001b[0m\u001b[0mstr\u001b[0m\u001b[1;33m[\u001b[0m\u001b[1;33m-\u001b[0m\u001b[1;36m4\u001b[0m\u001b[1;33m:\u001b[0m\u001b[1;33m]\u001b[0m\u001b[1;33m\u001b[0m\u001b[0m\n\u001b[0;32m     24\u001b[0m     \u001b[0mtrade\u001b[0m \u001b[1;33m=\u001b[0m \u001b[0mtrade\u001b[0m\u001b[1;33m.\u001b[0m\u001b[0mdropna\u001b[0m\u001b[1;33m(\u001b[0m\u001b[0msubset\u001b[0m \u001b[1;33m=\u001b[0m \u001b[1;33m[\u001b[0m\u001b[1;34m'Exports'\u001b[0m\u001b[1;33m,\u001b[0m \u001b[1;34m'Imports'\u001b[0m\u001b[1;33m]\u001b[0m\u001b[1;33m)\u001b[0m\u001b[1;33m\u001b[0m\u001b[0m\n",
      "\u001b[1;32m/home/miglesia/anaconda2/lib/python2.7/site-packages/pandas/io/parsers.pyc\u001b[0m in \u001b[0;36mparser_f\u001b[1;34m(filepath_or_buffer, sep, delimiter, header, names, index_col, usecols, squeeze, prefix, mangle_dupe_cols, dtype, engine, converters, true_values, false_values, skipinitialspace, skiprows, nrows, na_values, keep_default_na, na_filter, verbose, skip_blank_lines, parse_dates, infer_datetime_format, keep_date_col, date_parser, dayfirst, iterator, chunksize, compression, thousands, decimal, lineterminator, quotechar, quoting, escapechar, comment, encoding, dialect, tupleize_cols, error_bad_lines, warn_bad_lines, skipfooter, skip_footer, doublequote, delim_whitespace, as_recarray, compact_ints, use_unsigned, low_memory, buffer_lines, memory_map, float_precision)\u001b[0m\n\u001b[0;32m    707\u001b[0m                     skip_blank_lines=skip_blank_lines)\n\u001b[0;32m    708\u001b[0m \u001b[1;33m\u001b[0m\u001b[0m\n\u001b[1;32m--> 709\u001b[1;33m         \u001b[1;32mreturn\u001b[0m \u001b[0m_read\u001b[0m\u001b[1;33m(\u001b[0m\u001b[0mfilepath_or_buffer\u001b[0m\u001b[1;33m,\u001b[0m \u001b[0mkwds\u001b[0m\u001b[1;33m)\u001b[0m\u001b[1;33m\u001b[0m\u001b[0m\n\u001b[0m\u001b[0;32m    710\u001b[0m \u001b[1;33m\u001b[0m\u001b[0m\n\u001b[0;32m    711\u001b[0m     \u001b[0mparser_f\u001b[0m\u001b[1;33m.\u001b[0m\u001b[0m__name__\u001b[0m \u001b[1;33m=\u001b[0m \u001b[0mname\u001b[0m\u001b[1;33m\u001b[0m\u001b[0m\n",
      "\u001b[1;32m/home/miglesia/anaconda2/lib/python2.7/site-packages/pandas/io/parsers.pyc\u001b[0m in \u001b[0;36m_read\u001b[1;34m(filepath_or_buffer, kwds)\u001b[0m\n\u001b[0;32m    447\u001b[0m \u001b[1;33m\u001b[0m\u001b[0m\n\u001b[0;32m    448\u001b[0m     \u001b[1;31m# Create the parser.\u001b[0m\u001b[1;33m\u001b[0m\u001b[1;33m\u001b[0m\u001b[0m\n\u001b[1;32m--> 449\u001b[1;33m     \u001b[0mparser\u001b[0m \u001b[1;33m=\u001b[0m \u001b[0mTextFileReader\u001b[0m\u001b[1;33m(\u001b[0m\u001b[0mfilepath_or_buffer\u001b[0m\u001b[1;33m,\u001b[0m \u001b[1;33m**\u001b[0m\u001b[0mkwds\u001b[0m\u001b[1;33m)\u001b[0m\u001b[1;33m\u001b[0m\u001b[0m\n\u001b[0m\u001b[0;32m    450\u001b[0m \u001b[1;33m\u001b[0m\u001b[0m\n\u001b[0;32m    451\u001b[0m     \u001b[1;32mif\u001b[0m \u001b[0mchunksize\u001b[0m \u001b[1;32mor\u001b[0m \u001b[0miterator\u001b[0m\u001b[1;33m:\u001b[0m\u001b[1;33m\u001b[0m\u001b[0m\n",
      "\u001b[1;32m/home/miglesia/anaconda2/lib/python2.7/site-packages/pandas/io/parsers.pyc\u001b[0m in \u001b[0;36m__init__\u001b[1;34m(self, f, engine, **kwds)\u001b[0m\n\u001b[0;32m    816\u001b[0m             \u001b[0mself\u001b[0m\u001b[1;33m.\u001b[0m\u001b[0moptions\u001b[0m\u001b[1;33m[\u001b[0m\u001b[1;34m'has_index_names'\u001b[0m\u001b[1;33m]\u001b[0m \u001b[1;33m=\u001b[0m \u001b[0mkwds\u001b[0m\u001b[1;33m[\u001b[0m\u001b[1;34m'has_index_names'\u001b[0m\u001b[1;33m]\u001b[0m\u001b[1;33m\u001b[0m\u001b[0m\n\u001b[0;32m    817\u001b[0m \u001b[1;33m\u001b[0m\u001b[0m\n\u001b[1;32m--> 818\u001b[1;33m         \u001b[0mself\u001b[0m\u001b[1;33m.\u001b[0m\u001b[0m_make_engine\u001b[0m\u001b[1;33m(\u001b[0m\u001b[0mself\u001b[0m\u001b[1;33m.\u001b[0m\u001b[0mengine\u001b[0m\u001b[1;33m)\u001b[0m\u001b[1;33m\u001b[0m\u001b[0m\n\u001b[0m\u001b[0;32m    819\u001b[0m \u001b[1;33m\u001b[0m\u001b[0m\n\u001b[0;32m    820\u001b[0m     \u001b[1;32mdef\u001b[0m \u001b[0mclose\u001b[0m\u001b[1;33m(\u001b[0m\u001b[0mself\u001b[0m\u001b[1;33m)\u001b[0m\u001b[1;33m:\u001b[0m\u001b[1;33m\u001b[0m\u001b[0m\n",
      "\u001b[1;32m/home/miglesia/anaconda2/lib/python2.7/site-packages/pandas/io/parsers.pyc\u001b[0m in \u001b[0;36m_make_engine\u001b[1;34m(self, engine)\u001b[0m\n\u001b[0;32m   1047\u001b[0m     \u001b[1;32mdef\u001b[0m \u001b[0m_make_engine\u001b[0m\u001b[1;33m(\u001b[0m\u001b[0mself\u001b[0m\u001b[1;33m,\u001b[0m \u001b[0mengine\u001b[0m\u001b[1;33m=\u001b[0m\u001b[1;34m'c'\u001b[0m\u001b[1;33m)\u001b[0m\u001b[1;33m:\u001b[0m\u001b[1;33m\u001b[0m\u001b[0m\n\u001b[0;32m   1048\u001b[0m         \u001b[1;32mif\u001b[0m \u001b[0mengine\u001b[0m \u001b[1;33m==\u001b[0m \u001b[1;34m'c'\u001b[0m\u001b[1;33m:\u001b[0m\u001b[1;33m\u001b[0m\u001b[0m\n\u001b[1;32m-> 1049\u001b[1;33m             \u001b[0mself\u001b[0m\u001b[1;33m.\u001b[0m\u001b[0m_engine\u001b[0m \u001b[1;33m=\u001b[0m \u001b[0mCParserWrapper\u001b[0m\u001b[1;33m(\u001b[0m\u001b[0mself\u001b[0m\u001b[1;33m.\u001b[0m\u001b[0mf\u001b[0m\u001b[1;33m,\u001b[0m \u001b[1;33m**\u001b[0m\u001b[0mself\u001b[0m\u001b[1;33m.\u001b[0m\u001b[0moptions\u001b[0m\u001b[1;33m)\u001b[0m\u001b[1;33m\u001b[0m\u001b[0m\n\u001b[0m\u001b[0;32m   1050\u001b[0m         \u001b[1;32melse\u001b[0m\u001b[1;33m:\u001b[0m\u001b[1;33m\u001b[0m\u001b[0m\n\u001b[0;32m   1051\u001b[0m             \u001b[1;32mif\u001b[0m \u001b[0mengine\u001b[0m \u001b[1;33m==\u001b[0m \u001b[1;34m'python'\u001b[0m\u001b[1;33m:\u001b[0m\u001b[1;33m\u001b[0m\u001b[0m\n",
      "\u001b[1;32m/home/miglesia/anaconda2/lib/python2.7/site-packages/pandas/io/parsers.pyc\u001b[0m in \u001b[0;36m__init__\u001b[1;34m(self, src, **kwds)\u001b[0m\n\u001b[0;32m   1693\u001b[0m         \u001b[0mkwds\u001b[0m\u001b[1;33m[\u001b[0m\u001b[1;34m'allow_leading_cols'\u001b[0m\u001b[1;33m]\u001b[0m \u001b[1;33m=\u001b[0m \u001b[0mself\u001b[0m\u001b[1;33m.\u001b[0m\u001b[0mindex_col\u001b[0m \u001b[1;32mis\u001b[0m \u001b[1;32mnot\u001b[0m \u001b[0mFalse\u001b[0m\u001b[1;33m\u001b[0m\u001b[0m\n\u001b[0;32m   1694\u001b[0m \u001b[1;33m\u001b[0m\u001b[0m\n\u001b[1;32m-> 1695\u001b[1;33m         \u001b[0mself\u001b[0m\u001b[1;33m.\u001b[0m\u001b[0m_reader\u001b[0m \u001b[1;33m=\u001b[0m \u001b[0mparsers\u001b[0m\u001b[1;33m.\u001b[0m\u001b[0mTextReader\u001b[0m\u001b[1;33m(\u001b[0m\u001b[0msrc\u001b[0m\u001b[1;33m,\u001b[0m \u001b[1;33m**\u001b[0m\u001b[0mkwds\u001b[0m\u001b[1;33m)\u001b[0m\u001b[1;33m\u001b[0m\u001b[0m\n\u001b[0m\u001b[0;32m   1696\u001b[0m \u001b[1;33m\u001b[0m\u001b[0m\n\u001b[0;32m   1697\u001b[0m         \u001b[1;31m# XXX\u001b[0m\u001b[1;33m\u001b[0m\u001b[1;33m\u001b[0m\u001b[0m\n",
      "\u001b[1;32mpandas/_libs/parsers.pyx\u001b[0m in \u001b[0;36mpandas._libs.parsers.TextReader.__cinit__\u001b[1;34m()\u001b[0m\n",
      "\u001b[1;32mpandas/_libs/parsers.pyx\u001b[0m in \u001b[0;36mpandas._libs.parsers.TextReader._setup_parser_source\u001b[1;34m()\u001b[0m\n",
      "\u001b[1;31mIOError\u001b[0m: File ./../../../../../media/miglesia/Elements/Matias_Iglesias_Backup/miglesia/Documents/compute-corr-structures/data/disagg_struct_refs/formatted/secex-2011-microregions-position.csv does not exist"
     ]
    }
   ],
   "source": [
    "# wages_list = []\n",
    "\n",
    "# path = hard_drive_path + 'data/econ_data/sources/'\n",
    "\n",
    "# for y in ['2011', '2012', '2013', '2014']:\n",
    "#     f = path+'rais-'+y+'-microregions-classes-families.csv'\n",
    "#     wages = pd.read_csv(f)[[u'Year', u'BRA ID', u'CNAE ID', u'CBO ID', u'Total Monthly Wages',\n",
    "#            u'Total Jobs', u'Total Establishments', u'Average Monthly Wage',\n",
    "#            u'Average age', u'Estimated Employees']]\n",
    "#     wages['Total Yearly Wages'] = 12 * wages['Total Monthly Wages'] / exhange_rate[y]\n",
    "#     wages = wages.dropna(subset = ['Total Jobs', 'Total Yearly Wages'])\n",
    "#     wages = wages[[u'Year', u'BRA ID', u'CNAE ID', u'CBO ID', u'Total Jobs', u'Total Yearly Wages']].rename(\n",
    "#         {'BRA ID' : 'BRA ID MIR','CNAE ID':'CNAE ID CNC', 'CBO ID':'CBO ID CB4'}, axis = 1)\n",
    "\n",
    "#     wages_list += [wages]\n",
    "\n",
    "# wages_bra = pd.concat(wages_list)\n",
    "\n",
    "trade_list = []\n",
    "for y in ['2011', '2012', '2013', '2014']:\n",
    "    f = path+'secex-'+y+'-microregions-position.csv'\n",
    "    trade = pd.read_csv(f)[[u'Year', u'BRA ID', u'HS ID', u'Exports', u'Imports']].rename({'BRA ID' : 'BRA ID MIR'}, axis = 1)\n",
    "    trade['HS ID'] = trade['HS ID'].astype(str).str[-4:]\n",
    "    trade = trade.dropna(subset = ['Exports', 'Imports'])\n",
    "    trade.rename({'HS ID': 'HS ID HS4'}, axis = 1, inplace = True) \n",
    "#     trade = trade.merge(HS_agg_labels).drop_duplicates()\n",
    "    trade_list += [trade]\n",
    "    \n",
    "trade_bra = pd.concat(trade_list)\n",
    "    "
   ]
  },
  {
   "cell_type": "code",
   "execution_count": 29,
   "metadata": {
    "collapsed": true
   },
   "outputs": [],
   "source": [
    "# ### Save\n",
    "\n",
    "trade_bra.to_csv(hard_drive_path + 'data/econ_data/trade_bra.csv', index = False)\n",
    "# wages_bra.to_csv(hard_drive_path + 'data/econ_data/wages_bra.csv', index = False)"
   ]
  },
  {
   "cell_type": "markdown",
   "metadata": {},
   "source": [
    "## Chile. \n",
    "### Load data"
   ]
  },
  {
   "cell_type": "code",
   "execution_count": 12,
   "metadata": {
    "collapsed": true
   },
   "outputs": [],
   "source": [
    "wages_output = pd.read_csv(hard_drive_path + 'data/econ_data/sources/production_USD.csv')[['year', 'comuna_id', 'ciiu4_ori', 'output_USD', 'intermediates_USD', 'labour_cost_USD']].rename(\n",
    "    {'year': 'Year', 'comuna_id':'CHI ID COM', 'ciiu4_ori': 'CIIU ID CI4', 'labour_cost_USD': 'Total Yearly Wages'}, axis = 1)\n",
    "\n",
    "#Select years\n",
    "wages_output = wages_output.loc[wages_output.Year.isin([2011, 2012, 2013, 2014])]"
   ]
  },
  {
   "cell_type": "code",
   "execution_count": 15,
   "metadata": {
    "collapsed": true
   },
   "outputs": [],
   "source": [
    "exports = pd.read_csv(hard_drive_path + 'data/econ_data/sources/exports_comuna_hs6.csv').rename({'comuna_datachile_id': 'comuna_id', 'year': 'Year'}, axis='columns')\n",
    "imports = pd.read_csv(hard_drive_path + 'data/econ_data/sources/imports_comuna_hs6.csv').rename({'comuna_datachile_id': 'comuna_id', 'year': 'Year'}, axis='columns')\n",
    "\n",
    "\n",
    "exports = exports.loc[exports.Year.isin([2011, 2012, 2013, 2014])]\n",
    "imports = imports.loc[imports.Year.isin([2011, 2012, 2013, 2014])]\n",
    "\n",
    "exports['pcode6_f'] = exports['pcode6_f'].astype(int).astype(str)\n",
    "exports = exports.rename({'pcode6_f': 'HS ID HS6', 'comuna_id':'CHI ID COM' ,'fob_value_usd' : 'Exports'}, axis = 1)\n",
    "\n",
    "imports['pcode6_f'] = imports['pcode6_f']#.astype(int)#.astype(str)\n",
    "imports = imports.rename({'pcode6_f': 'HS ID HS6', 'comuna_id':'CHI ID COM', 'cif_value_usd' : 'Imports'}, axis = 1)\n",
    "\n",
    "trade_chi = exports.merge(imports, how = 'outer').fillna(0)"
   ]
  },
  {
   "cell_type": "code",
   "execution_count": 16,
   "metadata": {
    "collapsed": true
   },
   "outputs": [],
   "source": [
    "# exports.to_csv('data/econ_data/exports_chi.csv', index = False)\n",
    "# imports.to_csv('data/econ_data/imports_chi.csv', index = False)\n",
    "trade_chi.to_csv(hard_drive_path + 'data/econ_data/trade_chi.csv', index = False)\n",
    "# wages.to_csv('data/wages_chi.csv', index = False)\n",
    "wages_output.to_csv(hard_drive_path + 'data/econ_data/wages_output_chi.csv', index = False)"
   ]
  },
  {
   "cell_type": "code",
   "execution_count": null,
   "metadata": {
    "collapsed": true
   },
   "outputs": [],
   "source": []
  }
 ],
 "metadata": {
  "kernelspec": {
   "display_name": "Python 2",
   "language": "python",
   "name": "python2"
  },
  "language_info": {
   "codemirror_mode": {
    "name": "ipython",
    "version": 2
   },
   "file_extension": ".py",
   "mimetype": "text/x-python",
   "name": "python",
   "nbconvert_exporter": "python",
   "pygments_lexer": "ipython2",
   "version": "2.7.15"
  }
 },
 "nbformat": 4,
 "nbformat_minor": 1
}
