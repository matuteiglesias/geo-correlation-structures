{
 "cells": [
  {
   "cell_type": "code",
   "execution_count": 1,
   "metadata": {
    "collapsed": true
   },
   "outputs": [],
   "source": [
    "## Here we load raw datasets and leave them in a suitable shape for the analysis.\n",
    "\n",
    "# Datasets should be disaggregated at their maximum. They are:\n",
    "# Imports, exports and wages, from Brasil and Chile."
   ]
  },
  {
   "cell_type": "code",
   "execution_count": 2,
   "metadata": {
    "collapsed": true
   },
   "outputs": [],
   "source": [
    "import pandas as pd"
   ]
  },
  {
   "cell_type": "markdown",
   "metadata": {},
   "source": [
    "## Brazil. \n",
    "### Load classification info"
   ]
  },
  {
   "cell_type": "code",
   "execution_count": 2,
   "metadata": {
    "collapsed": false
   },
   "outputs": [],
   "source": [
    "# Load info\n",
    "path = 'data/disagg_struct_refs/formatted/'\n",
    "\n",
    "CIIU = pd.read_csv(path+'ciiu_full.csv')\n",
    "CBO = pd.read_csv(path+'CBO_full.csv').astype(str)\n",
    "CNAE = pd.read_csv(path+'CNAE_full.csv').astype(str)\n",
    "HS = pd.read_csv(path+'hs_full.csv').astype(str)\n",
    "\n",
    "#fix dtypes of IDs\n",
    "CBO['CBO ID SG'] = CBO['CBO ID SG'].astype(int).astype(str)\n",
    "CBO['CBO ID SGP'] = CBO['CBO ID SGP'].astype(int).astype(str)\n",
    "CBO['CBO ID GG'] = CBO['CBO ID GG'].astype(int).astype(str)\n",
    "\n",
    "CNAE_agg_ref = CNAE[['CNAE ID C', 'CNAE ID G', 'CNAE ID D', 'CNAE ID S']]\n",
    "# CNAE_agg_labels = CNAE[['CNAE ID C', 'CNAE label C', 'CNAE ID G', 'CNAE label G', 'CNAE ID D', 'CNAE label D',\n",
    "#                       'CNAE ID S', 'CNAE label S']].drop_duplicates()\n",
    "\n",
    "CBO_agg_ref = CBO[['CBO ID F', 'CBO ID SG', 'CBO ID SGP', 'CBO ID GG']]\n",
    "# CBO_agg_labels = CBO[['CBO ID F', 'CBO label F', 'CBO ID SG', 'CBO label SG',\n",
    "#                       'CBO ID SGP', 'CBO label SGP', 'CBO ID GG', 'CBO label GG']].drop_duplicates()\n",
    "\n",
    "HS_agg_ref = HS[['HS ID HS4', 'HS ID HS2']]\n",
    "# HS_agg_labels = HS[['HS ID HS4', 'HS label 4', 'HS ID 2', 'HS label 2']]\n",
    "\n",
    "exhange_rate = {'2011': 1.673, '2012': 1.953, '2013': 2.156, '2014': 2.353}\n",
    "# world bank https://data.worldbank.org/indicator/PA.NUS.FCRF?end=2014&locations=BR&start=2011\n"
   ]
  },
  {
   "cell_type": "markdown",
   "metadata": {},
   "source": [
    "### Load data. "
   ]
  },
  {
   "cell_type": "code",
   "execution_count": 83,
   "metadata": {
    "collapsed": false
   },
   "outputs": [],
   "source": [
    "wages_list = []\n",
    "\n",
    "for y in ['2011', '2012', '2013', '2014']:\n",
    "    f = 'data/raw/rais-'+y+'-microregions-classes-families.csv'\n",
    "    wages = pd.read_csv(f)[[u'Year', u'BRA ID', u'CNAE ID', u'CBO ID', u'Total Monthly Wages',\n",
    "           u'Total Jobs', u'Total Establishments', u'Average Monthly Wage',\n",
    "           u'Average age', u'Estimated Employees']]\n",
    "    wages['Total Yearly Wages'] = 12*wages['Total Monthly Wages'] / exhange_rate[y]\n",
    "    wages = wages[[u'Year', u'BRA ID', u'CNAE ID', u'CBO ID', u'Total Jobs', u'Total Yearly Wages']].rename({'BRA ID' : 'BRA ID MIR','CNAE ID':'CNAE ID C', 'CBO ID':'CBO ID F'}, axis = 1)\n",
    "\n",
    "    wages_list += [wages]\n",
    "\n",
    "wages = pd.concat(wages_list)\n",
    "\n",
    "# w_list = []\n",
    "# for wages in wages_list:\n",
    "#     wages = wages.merge(CNAE_agg_labels, how = 'left').drop_duplicates()\n",
    "#     wages = wages.merge(CBO_agg_labels, how = 'left').drop_duplicates()\n",
    "\n",
    "# #     fix trailing blankspace\n",
    "#     for col in wages.columns:\n",
    "#         if 'label' in col:\n",
    "#             wages[col] = wages[col].str.strip()\n",
    "        \n",
    "#     w_list += [wages]\n",
    "\n",
    "trade_list = []\n",
    "for y in ['2011', '2012', '2013', '2014']:\n",
    "    f = 'data/raw/secex-'+y+'-microregions-position.csv'\n",
    "    trade = pd.read_csv(f)[[u'Year', u'BRA ID', u'HS ID', u'Exports', u'Imports']].rename({'BRA ID' : 'BRA ID MIR'}, axis = 1)\n",
    "    trade['HS ID'] = trade['HS ID'].astype(str).str[-4:]\n",
    "    trade.rename({'HS ID': 'HS ID HS4'}, axis = 1, inplace = True) \n",
    "#     trade = trade.merge(HS_agg_labels).drop_duplicates()\n",
    "    trade_list += [trade]\n",
    "    \n",
    "trade = pd.concat(trade_list)\n",
    "    "
   ]
  },
  {
   "cell_type": "code",
   "execution_count": 84,
   "metadata": {
    "collapsed": false
   },
   "outputs": [],
   "source": [
    "### Save\n",
    "\n",
    "trade.to_csv('data/trade_bra.csv', index = False)\n",
    "wages.to_csv('data/wages_bra.csv', index = False)"
   ]
  },
  {
   "cell_type": "markdown",
   "metadata": {},
   "source": [
    "## Chile. \n",
    "### Load data"
   ]
  },
  {
   "cell_type": "code",
   "execution_count": 30,
   "metadata": {
    "collapsed": false
   },
   "outputs": [],
   "source": [
    "wages_output = pd.read_csv('data/econ_data/sources/production_USD.csv')[['year', 'comuna_id', 'ciiu4_ori', 'output_USD', 'intermediates_USD', 'labour_cost_USD']].rename(\n",
    "    {'year': 'Year', 'comuna_id':'CHI ID COM', 'ciiu4_ori': 'CIIU ID 4', 'labour_cost_USD': 'Total Yearly Wages'}, axis = 1)\n",
    "\n",
    "#Select years\n",
    "wages_output = wages_output.loc[wages_output.Year.isin([2011, 2012, 2013, 2014])]"
   ]
  },
  {
   "cell_type": "code",
   "execution_count": 28,
   "metadata": {
    "collapsed": false
   },
   "outputs": [],
   "source": [
    "exports = pd.read_csv('data/econ_data/sources/exports_comuna_hs6.csv').rename({'comuna_datachile_id': 'comuna_id', 'year': 'Year'}, axis='columns')\n",
    "imports = pd.read_csv('data/econ_data/sources/imports_comuna_hs6.csv').rename({'comuna_datachile_id': 'comuna_id', 'year': 'Year'}, axis='columns')\n",
    "\n",
    "\n",
    "exports = exports.loc[exports.Year.isin([2011, 2012, 2013, 2014])]\n",
    "imports = imports.loc[imports.Year.isin([2011, 2012, 2013, 2014])]\n",
    "\n",
    "exports['pcode6_f'] = exports['pcode6_f'].astype(int).astype(str)\n",
    "exports = exports.rename({'pcode6_f': 'HS ID HS6', 'comuna_id':'CHI ID COM' ,'fob_value_usd' : 'Exports'}, axis = 1)\n",
    "\n",
    "imports['pcode6_f'] = imports['pcode6_f']#.astype(int)#.astype(str)\n",
    "imports = imports.rename({'pcode6_f': 'HS ID HS6', 'comuna_id':'CHI ID COM', 'cif_value_usd' : 'Imports'}, axis = 1)\n",
    "\n",
    "trade = exports.merge(imports, how = 'outer').fillna(0)"
   ]
  },
  {
   "cell_type": "code",
   "execution_count": 31,
   "metadata": {
    "collapsed": true
   },
   "outputs": [],
   "source": [
    "# exports.to_csv('data/econ_data/exports_chi.csv', index = False)\n",
    "# imports.to_csv('data/econ_data/imports_chi.csv', index = False)\n",
    "trade_chi.to_csv('data/econ_data/trade_chi.csv', index = False)\n",
    "# wages.to_csv('data/wages_chi.csv', index = False)\n",
    "wages_output.to_csv('data/econ_data/wages_output_chi.csv', index = False)"
   ]
  },
  {
   "cell_type": "code",
   "execution_count": null,
   "metadata": {
    "collapsed": true
   },
   "outputs": [],
   "source": []
  }
 ],
 "metadata": {
  "kernelspec": {
   "display_name": "Python 2",
   "language": "python",
   "name": "python2"
  },
  "language_info": {
   "codemirror_mode": {
    "name": "ipython",
    "version": 2
   },
   "file_extension": ".py",
   "mimetype": "text/x-python",
   "name": "python",
   "nbconvert_exporter": "python",
   "pygments_lexer": "ipython2",
   "version": "2.7.13"
  }
 },
 "nbformat": 4,
 "nbformat_minor": 0
}
